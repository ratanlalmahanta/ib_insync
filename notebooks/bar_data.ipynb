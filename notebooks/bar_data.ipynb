{
 "cells": [
  {
   "cell_type": "markdown",
   "metadata": {},
   "source": [
    "# Bar data"
   ]
  },
  {
   "cell_type": "code",
   "execution_count": 1,
   "metadata": {},
   "outputs": [
    {
     "data": {
      "text/plain": [
       "<IB connected to 127.0.0.1:7497 clientId=14>"
      ]
     },
     "execution_count": 1,
     "metadata": {},
     "output_type": "execute_result"
    }
   ],
   "source": [
    "from ib_insync import *\n",
    "util.startLoop()\n",
    "\n",
    "ib = IB()\n",
    "ib.connect('127.0.0.1', 7497, clientId=14)"
   ]
  },
  {
   "cell_type": "markdown",
   "metadata": {},
   "source": [
    "## Historical data"
   ]
  },
  {
   "cell_type": "markdown",
   "metadata": {},
   "source": [
    "To get the earliest date of available bar data the \"head timestamp\" can be requested:"
   ]
  },
  {
   "cell_type": "code",
   "execution_count": 2,
   "metadata": {},
   "outputs": [
    {
     "data": {
      "text/plain": [
       "datetime.datetime(1999, 2, 11, 2, 30)"
      ]
     },
     "execution_count": 2,
     "metadata": {},
     "output_type": "execute_result"
    }
   ],
   "source": [
    "contract = Stock('SBIN', 'NSE', 'INR')\n",
    "\n",
    "ib.reqHeadTimeStamp(contract, whatToShow='TRADES', useRTH=True)"
   ]
  },
  {
   "cell_type": "markdown",
   "metadata": {},
   "source": [
    "To request hourly data of the last 60 trading days:"
   ]
  },
  {
   "cell_type": "code",
   "execution_count": 3,
   "metadata": {},
   "outputs": [],
   "source": [
    "bars = ib.reqHistoricalData(\n",
    "        contract,\n",
    "        endDateTime='',\n",
    "        durationStr='60 D',\n",
    "        barSizeSetting='1 hour',\n",
    "        whatToShow='TRADES',\n",
    "        useRTH=True,\n",
    "        formatDate=1)"
   ]
  },
  {
   "cell_type": "code",
   "execution_count": 4,
   "metadata": {},
   "outputs": [
    {
     "data": {
      "text/plain": [
       "BarData(date=datetime.datetime(2024, 6, 26, 9, 15), open=839.5, high=841.9, low=838.8, close=839.5, volume=37525.0, average=839.99, barCount=754)"
      ]
     },
     "execution_count": 4,
     "metadata": {},
     "output_type": "execute_result"
    }
   ],
   "source": [
    "bars[0]"
   ]
  },
  {
   "cell_type": "markdown",
   "metadata": {},
   "source": [
    "Convert the list of bars to a data frame and print the first and last rows:"
   ]
  },
  {
   "cell_type": "code",
   "execution_count": 5,
   "metadata": {},
   "outputs": [
    {
     "data": {
      "text/html": [
       "<div>\n",
       "<style scoped>\n",
       "    .dataframe tbody tr th:only-of-type {\n",
       "        vertical-align: middle;\n",
       "    }\n",
       "\n",
       "    .dataframe tbody tr th {\n",
       "        vertical-align: top;\n",
       "    }\n",
       "\n",
       "    .dataframe thead th {\n",
       "        text-align: right;\n",
       "    }\n",
       "</style>\n",
       "<table border=\"1\" class=\"dataframe\">\n",
       "  <thead>\n",
       "    <tr style=\"text-align: right;\">\n",
       "      <th></th>\n",
       "      <th>date</th>\n",
       "      <th>open</th>\n",
       "      <th>high</th>\n",
       "      <th>low</th>\n",
       "      <th>close</th>\n",
       "      <th>volume</th>\n",
       "      <th>average</th>\n",
       "      <th>barCount</th>\n",
       "    </tr>\n",
       "  </thead>\n",
       "  <tbody>\n",
       "    <tr>\n",
       "      <th>0</th>\n",
       "      <td>2024-06-26 09:15:00</td>\n",
       "      <td>839.50</td>\n",
       "      <td>841.90</td>\n",
       "      <td>838.8</td>\n",
       "      <td>839.50</td>\n",
       "      <td>37525.0</td>\n",
       "      <td>839.990</td>\n",
       "      <td>754</td>\n",
       "    </tr>\n",
       "    <tr>\n",
       "      <th>1</th>\n",
       "      <td>2024-06-26 09:30:00</td>\n",
       "      <td>839.55</td>\n",
       "      <td>840.75</td>\n",
       "      <td>836.0</td>\n",
       "      <td>839.10</td>\n",
       "      <td>121832.0</td>\n",
       "      <td>838.300</td>\n",
       "      <td>3213</td>\n",
       "    </tr>\n",
       "    <tr>\n",
       "      <th>2</th>\n",
       "      <td>2024-06-26 10:30:00</td>\n",
       "      <td>839.15</td>\n",
       "      <td>845.00</td>\n",
       "      <td>837.6</td>\n",
       "      <td>844.30</td>\n",
       "      <td>169110.0</td>\n",
       "      <td>841.535</td>\n",
       "      <td>3144</td>\n",
       "    </tr>\n",
       "    <tr>\n",
       "      <th>3</th>\n",
       "      <td>2024-06-26 11:30:00</td>\n",
       "      <td>844.35</td>\n",
       "      <td>848.00</td>\n",
       "      <td>843.0</td>\n",
       "      <td>843.00</td>\n",
       "      <td>151671.0</td>\n",
       "      <td>845.595</td>\n",
       "      <td>3236</td>\n",
       "    </tr>\n",
       "    <tr>\n",
       "      <th>4</th>\n",
       "      <td>2024-06-26 12:30:00</td>\n",
       "      <td>843.00</td>\n",
       "      <td>844.50</td>\n",
       "      <td>840.5</td>\n",
       "      <td>844.05</td>\n",
       "      <td>136044.0</td>\n",
       "      <td>842.555</td>\n",
       "      <td>3154</td>\n",
       "    </tr>\n",
       "  </tbody>\n",
       "</table>\n",
       "</div>"
      ],
      "text/plain": [
       "                 date    open    high    low   close    volume  average  \\\n",
       "0 2024-06-26 09:15:00  839.50  841.90  838.8  839.50   37525.0  839.990   \n",
       "1 2024-06-26 09:30:00  839.55  840.75  836.0  839.10  121832.0  838.300   \n",
       "2 2024-06-26 10:30:00  839.15  845.00  837.6  844.30  169110.0  841.535   \n",
       "3 2024-06-26 11:30:00  844.35  848.00  843.0  843.00  151671.0  845.595   \n",
       "4 2024-06-26 12:30:00  843.00  844.50  840.5  844.05  136044.0  842.555   \n",
       "\n",
       "   barCount  \n",
       "0       754  \n",
       "1      3213  \n",
       "2      3144  \n",
       "3      3236  \n",
       "4      3154  "
      ]
     },
     "metadata": {},
     "output_type": "display_data"
    },
    {
     "data": {
      "text/html": [
       "<div>\n",
       "<style scoped>\n",
       "    .dataframe tbody tr th:only-of-type {\n",
       "        vertical-align: middle;\n",
       "    }\n",
       "\n",
       "    .dataframe tbody tr th {\n",
       "        vertical-align: top;\n",
       "    }\n",
       "\n",
       "    .dataframe thead th {\n",
       "        text-align: right;\n",
       "    }\n",
       "</style>\n",
       "<table border=\"1\" class=\"dataframe\">\n",
       "  <thead>\n",
       "    <tr style=\"text-align: right;\">\n",
       "      <th></th>\n",
       "      <th>date</th>\n",
       "      <th>open</th>\n",
       "      <th>high</th>\n",
       "      <th>low</th>\n",
       "      <th>close</th>\n",
       "      <th>volume</th>\n",
       "      <th>average</th>\n",
       "      <th>barCount</th>\n",
       "    </tr>\n",
       "  </thead>\n",
       "  <tbody>\n",
       "    <tr>\n",
       "      <th>415</th>\n",
       "      <td>2024-09-19 10:30:00</td>\n",
       "      <td>795.20</td>\n",
       "      <td>797.55</td>\n",
       "      <td>787.10</td>\n",
       "      <td>788.25</td>\n",
       "      <td>88762.0</td>\n",
       "      <td>793.395</td>\n",
       "      <td>3243</td>\n",
       "    </tr>\n",
       "    <tr>\n",
       "      <th>416</th>\n",
       "      <td>2024-09-19 11:30:00</td>\n",
       "      <td>787.80</td>\n",
       "      <td>790.95</td>\n",
       "      <td>784.25</td>\n",
       "      <td>785.55</td>\n",
       "      <td>94343.0</td>\n",
       "      <td>787.530</td>\n",
       "      <td>3185</td>\n",
       "    </tr>\n",
       "    <tr>\n",
       "      <th>417</th>\n",
       "      <td>2024-09-19 12:30:00</td>\n",
       "      <td>785.50</td>\n",
       "      <td>790.85</td>\n",
       "      <td>785.35</td>\n",
       "      <td>788.20</td>\n",
       "      <td>101281.0</td>\n",
       "      <td>787.805</td>\n",
       "      <td>3167</td>\n",
       "    </tr>\n",
       "    <tr>\n",
       "      <th>418</th>\n",
       "      <td>2024-09-19 13:30:00</td>\n",
       "      <td>788.05</td>\n",
       "      <td>788.50</td>\n",
       "      <td>786.00</td>\n",
       "      <td>787.30</td>\n",
       "      <td>68154.0</td>\n",
       "      <td>787.305</td>\n",
       "      <td>3097</td>\n",
       "    </tr>\n",
       "    <tr>\n",
       "      <th>419</th>\n",
       "      <td>2024-09-19 14:30:00</td>\n",
       "      <td>787.50</td>\n",
       "      <td>791.95</td>\n",
       "      <td>786.20</td>\n",
       "      <td>790.50</td>\n",
       "      <td>196636.0</td>\n",
       "      <td>789.335</td>\n",
       "      <td>3254</td>\n",
       "    </tr>\n",
       "  </tbody>\n",
       "</table>\n",
       "</div>"
      ],
      "text/plain": [
       "                   date    open    high     low   close    volume  average  \\\n",
       "415 2024-09-19 10:30:00  795.20  797.55  787.10  788.25   88762.0  793.395   \n",
       "416 2024-09-19 11:30:00  787.80  790.95  784.25  785.55   94343.0  787.530   \n",
       "417 2024-09-19 12:30:00  785.50  790.85  785.35  788.20  101281.0  787.805   \n",
       "418 2024-09-19 13:30:00  788.05  788.50  786.00  787.30   68154.0  787.305   \n",
       "419 2024-09-19 14:30:00  787.50  791.95  786.20  790.50  196636.0  789.335   \n",
       "\n",
       "     barCount  \n",
       "415      3243  \n",
       "416      3185  \n",
       "417      3167  \n",
       "418      3097  \n",
       "419      3254  "
      ]
     },
     "metadata": {},
     "output_type": "display_data"
    }
   ],
   "source": [
    "df = util.df(bars)\n",
    "\n",
    "display(df.head())\n",
    "display(df.tail())"
   ]
  },
  {
   "cell_type": "markdown",
   "metadata": {},
   "source": [
    "Instruct the notebook to draw plot graphics inline:"
   ]
  },
  {
   "cell_type": "code",
   "execution_count": 6,
   "metadata": {},
   "outputs": [],
   "source": [
    "%matplotlib inline"
   ]
  },
  {
   "cell_type": "markdown",
   "metadata": {},
   "source": [
    "Plot the close data"
   ]
  },
  {
   "cell_type": "code",
   "execution_count": 7,
   "metadata": {},
   "outputs": [
    {
     "data": {
      "image/png": "[encoded data removed]",
      "text/plain": [
       "<Figure size 432x288 with 1 Axes>"
      ]
     },
     "metadata": {
      "needs_background": "light"
     },
     "output_type": "display_data"
    }
   ],
   "source": [
    "df.plot(y='close');"
   ]
  },
  {
   "cell_type": "markdown",
   "metadata": {},
   "source": [
    "There is also a utility function to plot bars as a candlestick plot. It can accept either a DataFrame or a list of bars. Here it will print the last 100 bars:"
   ]
  },
  {
   "cell_type": "code",
   "execution_count": 8,
   "metadata": {
    "scrolled": true
   },
   "outputs": [
    {
     "data": {
      "image/png": "[encoded data removed]",
      "text/plain": [
       "<Figure size 720x432 with 1 Axes>"
      ]
     },
     "metadata": {
      "needs_background": "light"
     },
     "output_type": "display_data"
    }
   ],
   "source": [
    "util.barplot(bars[-100:], title=contract.symbol);"
   ]
  },
  {
   "cell_type": "markdown",
   "metadata": {},
   "source": [
    "## Historical data with realtime updates\n",
    "\n",
    "A new feature of the API is to get live updates for historical bars. This is done by setting `endDateTime` to an empty string and the `keepUpToDate` parameter to `True`.\n",
    "\n",
    "Let's get some bars with an keepUpToDate subscription:"
   ]
  },
  {
   "cell_type": "code",
   "execution_count": 9,
   "metadata": {},
   "outputs": [],
   "source": [
    "contract = Forex('EURUSD')\n",
    "\n",
    "bars = ib.reqHistoricalData(\n",
    "        contract,\n",
    "        endDateTime='',\n",
    "        durationStr='900 S',\n",
    "        barSizeSetting='10 secs',\n",
    "        whatToShow='MIDPOINT',\n",
    "        useRTH=True,\n",
    "        formatDate=1,\n",
    "        keepUpToDate=True)"
   ]
  },
  {
   "cell_type": "markdown",
   "metadata": {},
   "source": [
    "Replot for every change of the last bar:"
   ]
  },
  {
   "cell_type": "code",
   "execution_count": 10,
   "metadata": {
    "scrolled": true
   },
   "outputs": [
    {
     "data": {
      "image/png": "[encoded data removed]",
      "text/plain": [
       "<Figure size 720x432 with 1 Axes>"
      ]
     },
     "metadata": {},
     "output_type": "display_data"
    },
    {
     "data": {
      "image/png": "[encoded data removed]",
      "text/plain": [
       "<Figure size 720x432 with 1 Axes>"
      ]
     },
     "metadata": {
      "needs_background": "light"
     },
     "output_type": "display_data"
    }
   ],
   "source": [
    "from IPython.display import display, clear_output\n",
    "import matplotlib.pyplot as plt\n",
    "\n",
    "def onBarUpdate(bars, hasNewBar):\n",
    "    plt.close()\n",
    "    plot = util.barplot(bars)\n",
    "    clear_output(wait=True)\n",
    "    display(plot)\n",
    "\n",
    "bars.updateEvent += onBarUpdate\n",
    "\n",
    "ib.sleep(10)\n",
    "ib.cancelHistoricalData(bars)"
   ]
  },
  {
   "cell_type": "markdown",
   "metadata": {},
   "source": [
    "Realtime bars\n",
    "------------------\n",
    "\n",
    "With ``reqRealTimeBars`` a subscription is started that sends a new bar every 5 seconds.\n",
    "\n",
    "First we'll set up a event handler for bar updates:"
   ]
  },
  {
   "cell_type": "code",
   "execution_count": 11,
   "metadata": {},
   "outputs": [],
   "source": [
    "def onBarUpdate(bars, hasNewBar):\n",
    "    print(bars[-1])"
   ]
  },
  {
   "cell_type": "markdown",
   "metadata": {},
   "source": [
    "Then do the real request and connect the event handler,"
   ]
  },
  {
   "cell_type": "code",
   "execution_count": 12,
   "metadata": {},
   "outputs": [],
   "source": [
    "bars = ib.reqRealTimeBars(contract, 5, 'MIDPOINT', False)\n",
    "bars.updateEvent += onBarUpdate"
   ]
  },
  {
   "cell_type": "markdown",
   "metadata": {},
   "source": [
    "let it run for half a minute and then cancel the realtime bars."
   ]
  },
  {
   "cell_type": "code",
   "execution_count": 13,
   "metadata": {},
   "outputs": [
    {
     "name": "stderr",
     "output_type": "stream",
     "text": [
      "Error 162, reqId 5: Historical Market Data Service error message:API historical data query cancelled: 5\n"
     ]
    },
    {
     "name": "stdout",
     "output_type": "stream",
     "text": [
      "RealTimeBar(time=datetime.datetime(2024, 9, 19, 11, 50, 30, tzinfo=datetime.timezone.utc), endTime=-1, open_=1.115595, high=1.115605, low=1.115595, close=1.115605, volume=-1.0, wap=-1.0, count=-1)\n",
      "RealTimeBar(time=datetime.datetime(2024, 9, 19, 11, 50, 35, tzinfo=datetime.timezone.utc), endTime=-1, open_=1.115605, high=1.115615, low=1.115595, close=1.115615, volume=-1.0, wap=-1.0, count=-1)\n",
      "RealTimeBar(time=datetime.datetime(2024, 9, 19, 11, 50, 40, tzinfo=datetime.timezone.utc), endTime=-1, open_=1.115615, high=1.11564, low=1.115605, close=1.115635, volume=-1.0, wap=-1.0, count=-1)\n",
      "RealTimeBar(time=datetime.datetime(2024, 9, 19, 11, 50, 45, tzinfo=datetime.timezone.utc), endTime=-1, open_=1.115635, high=1.11565, low=1.115565, close=1.115565, volume=-1.0, wap=-1.0, count=-1)\n",
      "RealTimeBar(time=datetime.datetime(2024, 9, 19, 11, 50, 50, tzinfo=datetime.timezone.utc), endTime=-1, open_=1.115565, high=1.115595, low=1.115555, close=1.11556, volume=-1.0, wap=-1.0, count=-1)\n",
      "RealTimeBar(time=datetime.datetime(2024, 9, 19, 11, 50, 55, tzinfo=datetime.timezone.utc), endTime=-1, open_=1.11556, high=1.11556, low=1.115535, close=1.115535, volume=-1.0, wap=-1.0, count=-1)\n",
      "RealTimeBar(time=datetime.datetime(2024, 9, 19, 11, 51, tzinfo=datetime.timezone.utc), endTime=-1, open_=1.115535, high=1.11556, low=1.115515, close=1.11554, volume=-1.0, wap=-1.0, count=-1)\n"
     ]
    }
   ],
   "source": [
    "ib.sleep(30)\n",
    "ib.cancelRealTimeBars(bars)"
   ]
  },
  {
   "cell_type": "markdown",
   "metadata": {},
   "source": [
    "The advantage of reqRealTimeBars is that it behaves more robust when the connection to the IB server farms is interrupted. After the connection is restored, the bars from during the network outage will be backfilled and the live bars will resume.\n",
    "\n",
    "reqHistoricalData + keepUpToDate will, at the moment of writing, leave the whole API inoperable after a network interruption."
   ]
  },
  {
   "cell_type": "code",
   "execution_count": 14,
   "metadata": {},
   "outputs": [],
   "source": [
    "ib.disconnect()"
   ]
  },
  {
   "cell_type": "code",
   "execution_count": null,
   "metadata": {},
   "outputs": [],
   "source": []
  }
 ],
 "metadata": {
  "kernelspec": {
   "display_name": "Python 3 (ipykernel)",
   "language": "python",
   "name": "python3"
  },
  "language_info": {
   "codemirror_mode": {
    "name": "ipython",
    "version": 3
   },
   "file_extension": ".py",
   "mimetype": "text/x-python",
   "name": "python",
   "nbconvert_exporter": "python",
   "pygments_lexer": "ipython3",
   "version": "3.9.12"
  }
 },
 "nbformat": 4,
 "nbformat_minor": 4
}
